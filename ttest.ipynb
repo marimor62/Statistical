{
 "cells": [
  {
   "cell_type": "markdown",
   "id": "10f5bbfe",
   "metadata": {},
   "source": [
    "# Lab |  Inferential statistics - T-test & P-value"
   ]
  },
  {
   "cell_type": "code",
   "execution_count": 1,
   "id": "96720e7f",
   "metadata": {},
   "outputs": [],
   "source": [
    "#import libraries\n",
    "from scipy.stats import ttest_1samp\n",
    "from scipy.stats import norm\n",
    "from scipy.stats import t\n",
    "import numpy as np"
   ]
  },
  {
   "cell_type": "markdown",
   "id": "0dae9f30",
   "metadata": {},
   "source": [
    "## Two-samples T-test"
   ]
  },
  {
   "cell_type": "markdown",
   "id": "8169e121",
   "metadata": {},
   "source": [
    "#### 1. Determine null and alternate hypothesis"
   ]
  },
  {
   "cell_type": "markdown",
   "id": "76802533",
   "metadata": {},
   "source": [
    "- **Null hypothesis**: both machines take the same time\n",
    "- **Alternate hypothesis**: both machines take not the same time"
   ]
  },
  {
   "cell_type": "markdown",
   "id": "006b725a",
   "metadata": {},
   "source": [
    "#### 2. Collect sample data"
   ]
  },
  {
   "cell_type": "code",
   "execution_count": 2,
   "id": "c04e071a",
   "metadata": {},
   "outputs": [],
   "source": [
    "new_machine = [42.1, 41, 41.3, 41.8, 42.4, 42.8, 43.2, 42.3, 41.8, 42.7]\n",
    "old_machine = [42.7, 43.6, 43.8, 43.3, 42.5, 43.5, 43.1, 41.7, 44, 44.1]"
   ]
  },
  {
   "cell_type": "code",
   "execution_count": 3,
   "id": "2b1a71ad",
   "metadata": {},
   "outputs": [],
   "source": [
    "#get the mean of both samples, the n and std\n",
    "mean_new = np.mean(new_machine)\n",
    "mean_old = np.mean(old_machine)\n",
    "n = len(new_machine)\n",
    "new_std = np.std(new_machine)\n",
    "old_std = np.std(old_machine)"
   ]
  },
  {
   "cell_type": "markdown",
   "id": "4c22fffe",
   "metadata": {},
   "source": [
    "#### 3. Calculate the t-statistic"
   ]
  },
  {
   "cell_type": "markdown",
   "id": "256dec93",
   "metadata": {},
   "source": [
    "Can be calculated with the following formula: where, Mx and My are the mean values of the two samples and S is the standard deviation. "
   ]
  },
  {
   "attachments": {
    "foto.png": {
     "image/png": "[encoded data removed]"
    }
   },
   "cell_type": "markdown",
   "id": "d074aaca",
   "metadata": {},
   "source": [
    "![foto.png](attachment:foto.png)"
   ]
  },
  {
   "cell_type": "code",
   "execution_count": 7,
   "id": "31bd6692",
   "metadata": {},
   "outputs": [
    {
     "name": "stdout",
     "output_type": "stream",
     "text": [
      "Statistic =  -3.5809955894645813\n"
     ]
    }
   ],
   "source": [
    "t_statistic= (mean_new-mean_old)/np.sqrt(((new_std**2)/n)+((old_std**2)/n))\n",
    "print('Statistic = ',t_statistic)"
   ]
  },
  {
   "cell_type": "markdown",
   "id": "38227806",
   "metadata": {},
   "source": [
    "Determine a confidence interval and degrees of freedom: 0,05 and df = 10 + 10 -2 = 18 "
   ]
  },
  {
   "cell_type": "markdown",
   "id": "0692bc65",
   "metadata": {},
   "source": [
    "#### 4. Calculate the critical value"
   ]
  },
  {
   "cell_type": "code",
   "execution_count": 5,
   "id": "e2d6a53e",
   "metadata": {},
   "outputs": [
    {
     "name": "stdout",
     "output_type": "stream",
     "text": [
      "Critical value =  -1.6448536269514729\n"
     ]
    }
   ],
   "source": [
    "# is this statistically significant? - 0.05 is convention \n",
    "critical_value= norm.ppf(0.05)\n",
    "print('Critical value = ',critical_value)"
   ]
  },
  {
   "cell_type": "markdown",
   "id": "40690a98",
   "metadata": {},
   "source": [
    "#### 5.  Compare the critical t-values with the calculated t statistic"
   ]
  },
  {
   "cell_type": "markdown",
   "id": "d9157022",
   "metadata": {},
   "source": [
    "The calculated t-statistic is not greater than the critical t-value, so there is no statistically significant difference between the two populations. The test fails to reject the null hypothesis and we accept the alternate hypothesis (both machines are different)."
   ]
  },
  {
   "cell_type": "markdown",
   "id": "9202b089",
   "metadata": {},
   "source": [
    "#### 6. Calculate the p value"
   ]
  },
  {
   "cell_type": "code",
   "execution_count": 8,
   "id": "cca8444d",
   "metadata": {
    "scrolled": true
   },
   "outputs": [
    {
     "name": "stdout",
     "output_type": "stream",
     "text": [
      "P-value =  0.00017114371649090197\n"
     ]
    }
   ],
   "source": [
    "# calculate the p value and confirm it is less than 0.05: a p-value of 0.05 (5%) is accepted to mean the data is valid.\n",
    "pvalue = norm.cdf(t_statistic)\n",
    "print('P-value = ',pvalue)"
   ]
  },
  {
   "cell_type": "markdown",
   "id": "2303fd03",
   "metadata": {},
   "source": [
    "#### 7. Calculate the confidence intervals"
   ]
  },
  {
   "cell_type": "code",
   "execution_count": 9,
   "id": "eee0da40",
   "metadata": {},
   "outputs": [
    {
     "name": "stdout",
     "output_type": "stream",
     "text": [
      "Upper CI = 42.495498158785935\n"
     ]
    }
   ],
   "source": [
    "# confidence interval for the new machine\n",
    "absoluteZ = abs(norm.ppf(0.05))\n",
    "upperCI = mean_new + absoluteZ*new_std/np.sqrt(n-1)\n",
    "print('Upper CI =', upperCI)"
   ]
  },
  {
   "cell_type": "code",
   "execution_count": 10,
   "id": "a5aa2d07",
   "metadata": {},
   "outputs": [
    {
     "name": "stdout",
     "output_type": "stream",
     "text": [
      "Lower CI = 41.784501841214066\n"
     ]
    }
   ],
   "source": [
    "lowerCI = mean_new - absoluteZ*new_std/math.sqrt(n-1)\n",
    "print('Lower CI =',lowerCI)"
   ]
  },
  {
   "cell_type": "code",
   "execution_count": 12,
   "id": "d80186eb",
   "metadata": {},
   "outputs": [
    {
     "name": "stdout",
     "output_type": "stream",
     "text": [
      "Upper CI = 43.62005349235966\n"
     ]
    }
   ],
   "source": [
    "# confidence interval for the old machine\n",
    "upperCI = mean_old + absoluteZ*old_std/np.sqrt(n-1)\n",
    "print('Upper CI =', upperCI)"
   ]
  },
  {
   "cell_type": "code",
   "execution_count": 13,
   "id": "758f4cfd",
   "metadata": {},
   "outputs": [
    {
     "name": "stdout",
     "output_type": "stream",
     "text": [
      "Lower CI = 42.83994650764035\n"
     ]
    }
   ],
   "source": [
    "lowerCI = mean_old - absoluteZ*old_std/math.sqrt(n-1)\n",
    "print('Lower CI =',lowerCI)"
   ]
  },
  {
   "cell_type": "markdown",
   "id": "3bfc8cce",
   "metadata": {},
   "source": [
    "#### Conclusion"
   ]
  },
  {
   "cell_type": "markdown",
   "id": "c076dbfe",
   "metadata": {},
   "source": [
    "The new machine is faster than the old machine."
   ]
  },
  {
   "cell_type": "markdown",
   "id": "6b9e6577",
   "metadata": {},
   "source": [
    "----"
   ]
  }
 ],
 "metadata": {
  "kernelspec": {
   "display_name": "Python 3",
   "language": "python",
   "name": "python3"
  },
  "language_info": {
   "codemirror_mode": {
    "name": "ipython",
    "version": 3
   },
   "file_extension": ".py",
   "mimetype": "text/x-python",
   "name": "python",
   "nbconvert_exporter": "python",
   "pygments_lexer": "ipython3",
   "version": "3.9.2"
  }
 },
 "nbformat": 4,
 "nbformat_minor": 5
}
